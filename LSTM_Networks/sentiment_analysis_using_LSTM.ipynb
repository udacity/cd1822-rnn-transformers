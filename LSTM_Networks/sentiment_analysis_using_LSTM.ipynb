{
 "cells": [
  {
   "cell_type": "markdown",
   "source": [
    "### Sentiment Analysis using LSTM"
   ],
   "metadata": {
    "collapsed": false
   }
  },
  {
   "cell_type": "code",
   "execution_count": 4,
   "metadata": {
    "collapsed": true,
    "ExecuteTime": {
     "start_time": "2023-04-12T16:22:34.095776Z",
     "end_time": "2023-04-12T16:22:34.240913Z"
    }
   },
   "outputs": [],
   "source": [
    "import torch\n",
    "import torch.nn as nn\n",
    "import torch.optim as optim"
   ]
  },
  {
   "cell_type": "markdown",
   "source": [
    "####  Prepare data"
   ],
   "metadata": {
    "collapsed": false
   }
  },
  {
   "cell_type": "code",
   "execution_count": 5,
   "outputs": [],
   "source": [
    "# Sentences (textual data) and their sentiment labels (1 for positive, 0 for negative)\n",
    "sentences = [\"i love this movie\", \"this film is amazing\", \"i didn't like it\", \"it was terrible\"]\n",
    "sentiment = [1, 1, 0, 0]"
   ],
   "metadata": {
    "collapsed": false,
    "ExecuteTime": {
     "start_time": "2023-04-12T16:22:34.108507Z",
     "end_time": "2023-04-12T16:22:34.293026Z"
    }
   }
  },
  {
   "cell_type": "markdown",
   "source": [
    "#### Create Vocabulary"
   ],
   "metadata": {
    "collapsed": false
   }
  },
  {
   "cell_type": "code",
   "execution_count": 6,
   "outputs": [],
   "source": [
    "# Simple vocabulary to represent words as indices\n",
    "vocab = {\"<PAD>\": 0, \"i\": 1, \"love\": 2, \"this\": 3, \"movie\": 4, \"film\": 5, \"is\": 6, \"amazing\": 7, \"didn't\": 8, \"like\": 9, \"it\": 10, \"was\": 11, \"terrible\": 12}"
   ],
   "metadata": {
    "collapsed": false,
    "ExecuteTime": {
     "start_time": "2023-04-12T16:22:34.119452Z",
     "end_time": "2023-04-12T16:22:34.293614Z"
    }
   }
  },
  {
   "cell_type": "markdown",
   "source": [
    "We create a simple vocabulary to represent words as indices. This allows us to convert words in our sentences to numbers, which can be fed as input to our neural network."
   ],
   "metadata": {
    "collapsed": false
   }
  },
  {
   "cell_type": "markdown",
   "source": [
    "#### Tokenize, encode and pad sentences"
   ],
   "metadata": {
    "collapsed": false
   }
  },
  {
   "cell_type": "code",
   "execution_count": 7,
   "outputs": [],
   "source": [
    "encoded_sentences = [[vocab[word] for word in sentence.split()] for sentence in sentences]\n",
    "max_length = max([len(sentence) for sentence in encoded_sentences])\n",
    "padded_sentences = [sentence + [vocab[\"<PAD>\"]] * (max_length - len(sentence)) for sentence in encoded_sentences]"
   ],
   "metadata": {
    "collapsed": false,
    "ExecuteTime": {
     "start_time": "2023-04-12T16:22:34.136556Z",
     "end_time": "2023-04-12T16:22:34.295464Z"
    }
   }
  },
  {
   "cell_type": "markdown",
   "source": [
    "We tokenize and encode the sentences using the vocabulary created earlier. We also pad the sentences with the `<PAD>` token to make them all the same length."
   ],
   "metadata": {
    "collapsed": false
   }
  },
  {
   "cell_type": "markdown",
   "source": [
    "#### Convert data to tensors"
   ],
   "metadata": {
    "collapsed": false
   }
  },
  {
   "cell_type": "code",
   "execution_count": 8,
   "outputs": [],
   "source": [
    "inputs = torch.LongTensor(padded_sentences)\n",
    "labels = torch.FloatTensor(sentiment)"
   ],
   "metadata": {
    "collapsed": false,
    "ExecuteTime": {
     "start_time": "2023-04-12T16:22:34.154982Z",
     "end_time": "2023-04-12T16:22:34.297533Z"
    }
   }
  },
  {
   "cell_type": "markdown",
   "source": [
    "We convert the input data and labels to PyTorch tensors. Inputs are converted to LongTensors, while labels are converted to FloatTensors."
   ],
   "metadata": {
    "collapsed": false
   }
  },
  {
   "cell_type": "markdown",
   "source": [
    "#### Define LSTM Model"
   ],
   "metadata": {
    "collapsed": false
   }
  },
  {
   "cell_type": "code",
   "execution_count": 9,
   "outputs": [],
   "source": [
    "class SimpleLSTM(nn.Module):\n",
    "    def __init__(self, vocab_size, embedding_dim, hidden_dim, output_dim):\n",
    "        super(SimpleLSTM, self).__init__()\n",
    "        self.embedding = nn.Embedding(vocab_size, embedding_dim)\n",
    "        self.lstm = nn.LSTM(embedding_dim, hidden_dim)\n",
    "        self.fc = nn.Linear(hidden_dim, output_dim)\n",
    "\n",
    "    def forward(self, x):\n",
    "        embedded = self.embedding(x)\n",
    "        output, (hidden, _) = self.lstm(embedded)\n",
    "        logits = self.fc(hidden.squeeze(0))\n",
    "        return logits\n"
   ],
   "metadata": {
    "collapsed": false,
    "ExecuteTime": {
     "start_time": "2023-04-12T16:22:34.168771Z",
     "end_time": "2023-04-12T16:22:34.297819Z"
    }
   }
  },
  {
   "cell_type": "markdown",
   "source": [
    "We define a simple LSTM model class that inherits from `nn.Module`. The model consists of an embedding layer, an LSTM layer, and a fully connected (linear) layer. The forward method takes an input tensor `x`, passes it through the embedding layer, the LSTM layer, and finally the fully connected layer to produce the output logits."
   ],
   "metadata": {
    "collapsed": false
   }
  },
  {
   "cell_type": "markdown",
   "source": [
    "#### Instantiate model and define loss and optimizer"
   ],
   "metadata": {
    "collapsed": false
   }
  },
  {
   "cell_type": "code",
   "execution_count": 10,
   "outputs": [],
   "source": [
    "model = SimpleLSTM(len(vocab), embedding_dim=10, hidden_dim=20, output_dim=1)\n",
    "criterion = nn.BCEWithLogitsLoss()\n",
    "optimizer = optim.Adam(model.parameters(), lr=0.001)"
   ],
   "metadata": {
    "collapsed": false,
    "ExecuteTime": {
     "start_time": "2023-04-12T16:22:34.174251Z",
     "end_time": "2023-04-12T16:22:34.322481Z"
    }
   }
  },
  {
   "cell_type": "markdown",
   "source": [
    "We instantiate the LSTM model with the vocabulary size, embedding dimensions, hidden dimensions, and output dimensions. We also define the binary cross-entropy with logits loss (`BCEWithLogitsLoss`) and the Adam optimizer."
   ],
   "metadata": {
    "collapsed": false
   }
  },
  {
   "cell_type": "markdown",
   "source": [
    "#### Train the model"
   ],
   "metadata": {
    "collapsed": false
   }
  },
  {
   "cell_type": "code",
   "execution_count": 11,
   "outputs": [
    {
     "name": "stdout",
     "output_type": "stream",
     "text": [
      "Epoch: 100, Loss: 0.12670296430587769\n",
      "Epoch: 200, Loss: 0.017672989517450333\n",
      "Epoch: 300, Loss: 0.007727793417870998\n",
      "Epoch: 400, Loss: 0.00463694054633379\n",
      "Epoch: 500, Loss: 0.003190726973116398\n",
      "Epoch: 600, Loss: 0.002372029237449169\n",
      "Epoch: 700, Loss: 0.0018512976821511984\n",
      "Epoch: 800, Loss: 0.0014917112421244383\n",
      "Epoch: 900, Loss: 0.0012283801333978772\n",
      "Epoch: 1000, Loss: 0.0010285137686878443\n"
     ]
    }
   ],
   "source": [
    "epochs = 1000\n",
    "for epoch in range(epochs):\n",
    "    optimizer.zero_grad()\n",
    "    predictions = model(inputs.t()).squeeze(1)\n",
    "    loss = criterion(predictions, labels)\n",
    "    loss.backward()\n",
    "    optimizer.step()\n",
    "\n",
    "    if (epoch + 1) % 100 == 0:\n",
    "        print(f\"Epoch: {epoch + 1}, Loss: {loss.item()}\")\n"
   ],
   "metadata": {
    "collapsed": false,
    "ExecuteTime": {
     "start_time": "2023-04-12T16:22:34.207066Z",
     "end_time": "2023-04-12T16:22:35.864714Z"
    }
   }
  },
  {
   "cell_type": "markdown",
   "source": [
    "We train the model for 1000 epochs. In each epoch, we:\n",
    "\n",
    "- Reset the gradients by calling optimizer.zero_grad()\n",
    "- Get the model's predictions for the input sentences by calling model(inputs.t()).squeeze(1)\n",
    "- Calculate the loss between the predictions and the true labels using the criterion defined earlier\n",
    "- Perform backpropagation by calling loss.backward()\n",
    "- Update the model's parameters by calling optimizer.step()\n",
    "- We also print the loss every 100 epochs for monitoring the training progress."
   ],
   "metadata": {
    "collapsed": false
   }
  },
  {
   "cell_type": "markdown",
   "source": [
    "#### Test the model"
   ],
   "metadata": {
    "collapsed": false
   }
  },
  {
   "cell_type": "code",
   "execution_count": 12,
   "outputs": [
    {
     "name": "stdout",
     "output_type": "stream",
     "text": [
      "Test predictions: tensor([9.9716e-01, 9.5173e-04])\n"
     ]
    }
   ],
   "source": [
    "with torch.no_grad():\n",
    "    test_sentences = [\"i love this film\", \"it was terrible\"]\n",
    "    encoded_test_sentences = [[vocab[word] for word in sentence.split()] for sentence in test_sentences]\n",
    "    padded_test_sentences = [sentence + [vocab[\"<PAD>\"]] * (max_length - len(sentence)) for sentence in encoded_test_sentences]\n",
    "    test_inputs = torch.LongTensor(padded_test_sentences)\n",
    "    test_predictions = torch.sigmoid(model(test_inputs.t()).squeeze(1))\n",
    "    print(\"Test predictions:\", test_predictions)\n"
   ],
   "metadata": {
    "collapsed": false,
    "ExecuteTime": {
     "start_time": "2023-04-12T16:22:35.865321Z",
     "end_time": "2023-04-12T16:22:35.900667Z"
    }
   }
  },
  {
   "cell_type": "markdown",
   "source": [
    "We test the model on two new sentences. First, we tokenize, encode, and pad the test sentences in the same way as we did for the training sentences. We then convert the test sentences to PyTorch tensors and pass them through the model. We apply the sigmoid function to the output logits to obtain the final predictions, which represent the probability of each sentence being positive.\n",
    "\n",
    "The resulting `test_predictions` tensor contains the model's sentiment predictions for the given test sentences."
   ],
   "metadata": {
    "collapsed": false
   }
  }
 ],
 "metadata": {
  "kernelspec": {
   "display_name": "Python 3",
   "language": "python",
   "name": "python3"
  },
  "language_info": {
   "codemirror_mode": {
    "name": "ipython",
    "version": 2
   },
   "file_extension": ".py",
   "mimetype": "text/x-python",
   "name": "python",
   "nbconvert_exporter": "python",
   "pygments_lexer": "ipython2",
   "version": "2.7.6"
  }
 },
 "nbformat": 4,
 "nbformat_minor": 0
}
