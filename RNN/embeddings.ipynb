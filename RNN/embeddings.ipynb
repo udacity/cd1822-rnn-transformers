{
 "cells": [
  {
   "cell_type": "code",
   "execution_count": null,
   "outputs": [],
   "source": [
    "import torchtext.vocab as vocab\n",
    "import torch"
   ],
   "metadata": {
    "collapsed": false
   }
  },
  {
   "cell_type": "code",
   "execution_count": null,
   "outputs": [],
   "source": [
    "sample_text = \"The quick brown fox jumps over the lazy dog.\"\n",
    "tokens = sample_text.lower().split()\n",
    "\n",
    "# TODO 1: provide embedding files in AWS buckets.\n",
    "# TODO 2: test the code"
   ],
   "metadata": {
    "collapsed": false
   }
  },
  {
   "cell_type": "markdown",
   "source": [
    "### GloVE"
   ],
   "metadata": {
    "collapsed": false
   }
  },
  {
   "cell_type": "code",
   "execution_count": null,
   "outputs": [],
   "source": [
    "glove = vocab.GloVe(name='6B', dim=100)\n",
    "\n",
    "embeddings = []\n",
    "for token in tokens:\n",
    "    if token in glove.stoi:\n",
    "        embeddings.append(glove.vectors[glove.stoi[token]])\n",
    "    else:\n",
    "        embeddings.append([0] * glove.dim)\n",
    "\n",
    "print(embeddings[:2])\n",
    "\n",
    "embeddings_tensor = torch.tensor(embeddings)\n",
    "print(embeddings_tensor)"
   ],
   "metadata": {
    "collapsed": false
   }
  },
  {
   "cell_type": "markdown",
   "source": [
    "### FastText"
   ],
   "metadata": {
    "collapsed": false
   }
  },
  {
   "cell_type": "code",
   "execution_count": null,
   "outputs": [],
   "source": [
    "fasttext = vocab.FastText(language='en', dim=300)\n",
    "word = \"cat\"\n",
    "embedding = fasttext.vectors[fasttext.stoi[word]]\n",
    "print(embedding)"
   ],
   "metadata": {
    "collapsed": false
   }
  },
  {
   "cell_type": "markdown",
   "source": [
    "### CharNgram"
   ],
   "metadata": {
    "collapsed": false
   }
  },
  {
   "cell_type": "code",
   "execution_count": null,
   "outputs": [],
   "source": [
    "char_ngrams = vocab.CharNGram()\n",
    "text = [\"The quick brown fox jumps over the lazy dog\"]\n",
    "char_ngrams.build_vocab(text)\n",
    "word = \"fox\"\n",
    "embedding = char_ngrams.get_vecs_by_tokens(word)\n",
    "print(embedding)"
   ],
   "metadata": {
    "collapsed": false
   }
  }
 ],
 "metadata": {
  "kernelspec": {
   "display_name": "Python 3",
   "language": "python",
   "name": "python3"
  },
  "language_info": {
   "codemirror_mode": {
    "name": "ipython",
    "version": 2
   },
   "file_extension": ".py",
   "mimetype": "text/x-python",
   "name": "python",
   "nbconvert_exporter": "python",
   "pygments_lexer": "ipython2",
   "version": "2.7.6"
  }
 },
 "nbformat": 4,
 "nbformat_minor": 0
}
