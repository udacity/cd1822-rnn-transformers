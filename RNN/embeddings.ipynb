{
 "cells": [
  {
   "cell_type": "code",
   "execution_count": null,
   "outputs": [
    {
     "name": "stderr",
     "output_type": "stream",
     "text": [
      ".vector_cache/glove.6B.zip:   0%|          | 836k/862M [00:59<17:02:26, 14.0kB/s]  "
     ]
    }
   ],
   "source": [
    "import torchtext.vocab as vocab\n",
    "import torch\n",
    "\n",
    "glove = vocab.GloVe(name='6B', dim=100)\n",
    "\n",
    "sample_text = \"The quick brown fox jumps over the lazy dog.\"\n",
    "tokens = sample_text.lower().split()\n",
    "\n",
    "embeddings = []\n",
    "for token in tokens:\n",
    "    if token in glove.stoi:\n",
    "        embeddings.append(glove.vectors[glove.stoi[token]])\n",
    "    else:\n",
    "        embeddings.append([0] * glove.dim)\n",
    "\n",
    "embeddings_tensor = torch.tensor(embeddings)\n",
    "\n",
    "print(embeddings_tensor)"
   ],
   "metadata": {
    "collapsed": false,
    "pycharm": {
     "is_executing": true
    }
   }
  },
  {
   "cell_type": "code",
   "execution_count": null,
   "outputs": [],
   "source": [],
   "metadata": {
    "collapsed": false
   }
  }
 ],
 "metadata": {
  "kernelspec": {
   "display_name": "Python 3",
   "language": "python",
   "name": "python3"
  },
  "language_info": {
   "codemirror_mode": {
    "name": "ipython",
    "version": 2
   },
   "file_extension": ".py",
   "mimetype": "text/x-python",
   "name": "python",
   "nbconvert_exporter": "python",
   "pygments_lexer": "ipython2",
   "version": "2.7.6"
  }
 },
 "nbformat": 4,
 "nbformat_minor": 0
}
